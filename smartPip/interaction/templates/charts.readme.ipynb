{
 "cells": [
  {
   "cell_type": "markdown",
   "metadata": {
    "collapsed": true
   },
   "source": []
  },
  {
   "cell_type": "markdown",
   "metadata": {},
   "source": [
    "<script type=\"text/javascript\">\n",
    "                        // 发送参数\n",
    "                        const _title_ = '健康状况'\n",
    "                        const _subtitle_ = '{{ self.position }}'\n",
    "                        const _colors_ = ['red','yellow', 'green', 'green', 'yellow', 'red']\n",
    "                        const _indicator_ = [\n",
    "                            {text: '温度', min:-20, max: 50},\n",
    "                            {text: '湿度', min:0, max: 60},\n",
    "                            {text: '光源', min:0, max: 40},\n",
    "                            {text: '氧含量', min: 0, max: 40},\n",
    "                            {text: '有害气体', min:-20, max: 20}\n",
    "                        ]\n",
    "                        const _data_ = [\n",
    "                            {\n",
    "                                value: [19,28,20,22,10],\n",
    "                                name: '环境状况'\n",
    "                            }\n",
    "                        ]\n",
    "                        const _elementId_ = 'home-chart'\n",
    "                        const _calculable_ = false\n",
    "                        const _rightlable_ = -110\n",
    "                        const _tooltipbackgroundColor_ = '#00ADAD';\n",
    "                        const environment_data = {'_title_': _title_, '_subtitle_': _subtitle_, '_colors_': _colors_, '_indicator_': _indicator_, '_data_': _data_, '_elementId_': _elementId_, '_calculable_':_calculable_, '_rightlable_':_rightlable_, '_tooltipbackgroundColor_':_tooltipbackgroundColor_}\n",
    "\n",
    "                        // 执行函数\n",
    "                        radra_1(environment_data)\n",
    "                    </script>"
   ]
  }
 ],
 "metadata": {
  "kernelspec": {
   "display_name": "Python 2",
   "language": "python",
   "name": "python2"
  },
  "language_info": {
   "codemirror_mode": {
    "name": "ipython",
    "version": 2
   },
   "file_extension": ".py",
   "mimetype": "text/x-python",
   "name": "python",
   "nbconvert_exporter": "python",
   "pygments_lexer": "ipython2",
   "version": "2.7.6"
  }
 },
 "nbformat": 4,
 "nbformat_minor": 0
}
